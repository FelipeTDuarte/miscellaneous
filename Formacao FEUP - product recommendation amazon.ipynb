{
 "cells": [
  {
   "cell_type": "markdown",
   "id": "4dfe3b69",
   "metadata": {},
   "source": [
    "# Recomendação de Produtos\n"
   ]
  },
  {
   "cell_type": "markdown",
   "id": "4b706929",
   "metadata": {},
   "source": [
    "### Importação de bibliotecas"
   ]
  },
  {
   "cell_type": "code",
   "execution_count": 23,
   "id": "27c4e1a8",
   "metadata": {},
   "outputs": [],
   "source": [
    "import pandas as pd\n",
    "import warnings\n",
    "warnings.filterwarnings('ignore')\n",
    "import numpy as np\n",
    "import pandas as pd \n",
    "import matplotlib.pyplot as plt\n",
    "import seaborn as sns\n",
    "sns.set_color_codes()\n",
    "sns.set(style=\"whitegrid\")\n",
    "%matplotlib inline\n",
    "from scipy.stats import zscore\n",
    "from sklearn import metrics\n",
    "from sklearn.model_selection import train_test_split\n",
    "from sklearn.model_selection import KFold\n",
    "from sklearn.model_selection import cross_val_score\n",
    "from sklearn.decomposition import PCA\n",
    "from sklearn.preprocessing import StandardScaler\n",
    "from sklearn.metrics import mean_squared_error\n",
    "from math import sqrt\n",
    "import requests\n",
    "from io import StringIO\n",
    "#setting up for customized printing\n",
    "from IPython.display import Markdown, display\n",
    "from IPython.display import HTML"
   ]
  },
  {
   "cell_type": "markdown",
   "id": "ab60f7d7",
   "metadata": {},
   "source": [
    "## O Dataset:\n",
    "\n",
    "O Dataset consiste num dataset público de ratings de produtos da Amazon."
   ]
  },
  {
   "cell_type": "markdown",
   "id": "d4e5ce11",
   "metadata": {},
   "source": [
    "### Pré-Processamento de dados"
   ]
  },
  {
   "cell_type": "markdown",
   "id": "3c56fd88",
   "metadata": {},
   "source": [
    "#### 1- Filtragem do Dataset"
   ]
  },
  {
   "cell_type": "code",
   "execution_count": 24,
   "id": "5c599741",
   "metadata": {
    "scrolled": false
   },
   "outputs": [],
   "source": [
    "electronics = pd.read_csv('ratings_Electronics.csv', names=['userId', 'productId', 'Rating','timestamp'], header=None)\n",
    "electronics.drop('timestamp', axis=1, inplace=True)\n",
    "electronics_groupby_product_Ratings = electronics.groupby('productId')['Rating']\n",
    "electronics_groupby_product_Ratings = pd.DataFrame(electronics_groupby_product_Ratings.count())\n",
    "product_list_min50_ratings = electronics_groupby_product_Ratings[electronics_groupby_product_Ratings['Rating'] >= 30].index\n",
    "electronics =  electronics[electronics['productId'].isin(product_list_min50_ratings)]\n",
    "electronics_groupby_user_Ratings = electronics.groupby('userId')['Rating']\n",
    "electronics_groupby_user_Ratings = pd.DataFrame(electronics_groupby_user_Ratings.count())\n",
    "user_list_min50_ratings = electronics_groupby_user_Ratings[electronics_groupby_user_Ratings['Rating'] >= 30].index\n",
    "electronics =  electronics[electronics['userId'].isin(user_list_min50_ratings)]\n",
    "electronics = electronics[['userId', 'productId', 'Rating']]"
   ]
  },
  {
   "cell_type": "code",
   "execution_count": 25,
   "id": "05ec45e2",
   "metadata": {},
   "outputs": [
    {
     "data": {
      "text/html": [
       "<div>\n",
       "<style scoped>\n",
       "    .dataframe tbody tr th:only-of-type {\n",
       "        vertical-align: middle;\n",
       "    }\n",
       "\n",
       "    .dataframe tbody tr th {\n",
       "        vertical-align: top;\n",
       "    }\n",
       "\n",
       "    .dataframe thead th {\n",
       "        text-align: right;\n",
       "    }\n",
       "</style>\n",
       "<table border=\"1\" class=\"dataframe\">\n",
       "  <thead>\n",
       "    <tr style=\"text-align: right;\">\n",
       "      <th></th>\n",
       "      <th>userId</th>\n",
       "      <th>productId</th>\n",
       "      <th>Rating</th>\n",
       "    </tr>\n",
       "  </thead>\n",
       "  <tbody>\n",
       "    <tr>\n",
       "      <th>118</th>\n",
       "      <td>AT09WGFUM934H</td>\n",
       "      <td>0594481813</td>\n",
       "      <td>3.0</td>\n",
       "    </tr>\n",
       "    <tr>\n",
       "      <th>200</th>\n",
       "      <td>A3BMUBUC1N77U8</td>\n",
       "      <td>0972683275</td>\n",
       "      <td>4.0</td>\n",
       "    </tr>\n",
       "    <tr>\n",
       "      <th>389</th>\n",
       "      <td>A6J8D9V5S9MBE</td>\n",
       "      <td>0972683275</td>\n",
       "      <td>5.0</td>\n",
       "    </tr>\n",
       "    <tr>\n",
       "      <th>492</th>\n",
       "      <td>A3CLWR1UUZT6TG</td>\n",
       "      <td>0972683275</td>\n",
       "      <td>5.0</td>\n",
       "    </tr>\n",
       "    <tr>\n",
       "      <th>583</th>\n",
       "      <td>A11NR4AJK9TNQM</td>\n",
       "      <td>0972683275</td>\n",
       "      <td>4.0</td>\n",
       "    </tr>\n",
       "  </tbody>\n",
       "</table>\n",
       "</div>"
      ],
      "text/plain": [
       "             userId   productId  Rating\n",
       "118   AT09WGFUM934H  0594481813     3.0\n",
       "200  A3BMUBUC1N77U8  0972683275     4.0\n",
       "389   A6J8D9V5S9MBE  0972683275     5.0\n",
       "492  A3CLWR1UUZT6TG  0972683275     5.0\n",
       "583  A11NR4AJK9TNQM  0972683275     4.0"
      ]
     },
     "execution_count": 25,
     "metadata": {},
     "output_type": "execute_result"
    }
   ],
   "source": [
    "electronics.head()"
   ]
  },
  {
   "cell_type": "markdown",
   "id": "230a3e38",
   "metadata": {},
   "source": [
    "#### 2 - Colocar os dados no formato pivot cliente-produto e converter num matriz numpy (eficiência)"
   ]
  },
  {
   "cell_type": "code",
   "execution_count": 9,
   "id": "a06a9784",
   "metadata": {},
   "outputs": [
    {
     "data": {
      "text/html": [
       "<div>\n",
       "<style scoped>\n",
       "    .dataframe tbody tr th:only-of-type {\n",
       "        vertical-align: middle;\n",
       "    }\n",
       "\n",
       "    .dataframe tbody tr th {\n",
       "        vertical-align: top;\n",
       "    }\n",
       "\n",
       "    .dataframe thead th {\n",
       "        text-align: right;\n",
       "    }\n",
       "</style>\n",
       "<table border=\"1\" class=\"dataframe\">\n",
       "  <thead>\n",
       "    <tr style=\"text-align: right;\">\n",
       "      <th>productId</th>\n",
       "      <th>0594481813</th>\n",
       "      <th>0972683275</th>\n",
       "      <th>1400501466</th>\n",
       "      <th>1400501520</th>\n",
       "      <th>1400501776</th>\n",
       "      <th>1400532620</th>\n",
       "      <th>1400532655</th>\n",
       "      <th>140053271X</th>\n",
       "      <th>1400599997</th>\n",
       "      <th>1400698987</th>\n",
       "      <th>...</th>\n",
       "      <th>B00KHR4ZL6</th>\n",
       "      <th>B00KI2BD1U</th>\n",
       "      <th>B00KIMX4EY</th>\n",
       "      <th>B00KINSDK8</th>\n",
       "      <th>B00KMRGF28</th>\n",
       "      <th>B00KPRWAX8</th>\n",
       "      <th>B00KWHMR6G</th>\n",
       "      <th>B00KYMCJF8</th>\n",
       "      <th>B00L26YDA4</th>\n",
       "      <th>B00L3YHF6O</th>\n",
       "    </tr>\n",
       "    <tr>\n",
       "      <th>userId</th>\n",
       "      <th></th>\n",
       "      <th></th>\n",
       "      <th></th>\n",
       "      <th></th>\n",
       "      <th></th>\n",
       "      <th></th>\n",
       "      <th></th>\n",
       "      <th></th>\n",
       "      <th></th>\n",
       "      <th></th>\n",
       "      <th></th>\n",
       "      <th></th>\n",
       "      <th></th>\n",
       "      <th></th>\n",
       "      <th></th>\n",
       "      <th></th>\n",
       "      <th></th>\n",
       "      <th></th>\n",
       "      <th></th>\n",
       "      <th></th>\n",
       "      <th></th>\n",
       "    </tr>\n",
       "  </thead>\n",
       "  <tbody>\n",
       "    <tr>\n",
       "      <th>A100UD67AHFODS</th>\n",
       "      <td>0.0</td>\n",
       "      <td>0.0</td>\n",
       "      <td>0.0</td>\n",
       "      <td>0.0</td>\n",
       "      <td>0.0</td>\n",
       "      <td>0.0</td>\n",
       "      <td>0.0</td>\n",
       "      <td>0.0</td>\n",
       "      <td>0.0</td>\n",
       "      <td>0.0</td>\n",
       "      <td>...</td>\n",
       "      <td>0.0</td>\n",
       "      <td>0.0</td>\n",
       "      <td>0.0</td>\n",
       "      <td>0.0</td>\n",
       "      <td>0.0</td>\n",
       "      <td>0.0</td>\n",
       "      <td>0.0</td>\n",
       "      <td>0.0</td>\n",
       "      <td>0.0</td>\n",
       "      <td>0.0</td>\n",
       "    </tr>\n",
       "    <tr>\n",
       "      <th>A100WO06OQR8BQ</th>\n",
       "      <td>0.0</td>\n",
       "      <td>0.0</td>\n",
       "      <td>0.0</td>\n",
       "      <td>0.0</td>\n",
       "      <td>0.0</td>\n",
       "      <td>0.0</td>\n",
       "      <td>0.0</td>\n",
       "      <td>0.0</td>\n",
       "      <td>0.0</td>\n",
       "      <td>0.0</td>\n",
       "      <td>...</td>\n",
       "      <td>0.0</td>\n",
       "      <td>0.0</td>\n",
       "      <td>0.0</td>\n",
       "      <td>0.0</td>\n",
       "      <td>0.0</td>\n",
       "      <td>0.0</td>\n",
       "      <td>0.0</td>\n",
       "      <td>0.0</td>\n",
       "      <td>0.0</td>\n",
       "      <td>0.0</td>\n",
       "    </tr>\n",
       "    <tr>\n",
       "      <th>A105S56ODHGJEK</th>\n",
       "      <td>0.0</td>\n",
       "      <td>0.0</td>\n",
       "      <td>0.0</td>\n",
       "      <td>0.0</td>\n",
       "      <td>0.0</td>\n",
       "      <td>0.0</td>\n",
       "      <td>0.0</td>\n",
       "      <td>0.0</td>\n",
       "      <td>0.0</td>\n",
       "      <td>0.0</td>\n",
       "      <td>...</td>\n",
       "      <td>0.0</td>\n",
       "      <td>0.0</td>\n",
       "      <td>0.0</td>\n",
       "      <td>0.0</td>\n",
       "      <td>0.0</td>\n",
       "      <td>0.0</td>\n",
       "      <td>0.0</td>\n",
       "      <td>0.0</td>\n",
       "      <td>0.0</td>\n",
       "      <td>0.0</td>\n",
       "    </tr>\n",
       "    <tr>\n",
       "      <th>A105TOJ6LTVMBG</th>\n",
       "      <td>0.0</td>\n",
       "      <td>0.0</td>\n",
       "      <td>0.0</td>\n",
       "      <td>0.0</td>\n",
       "      <td>0.0</td>\n",
       "      <td>0.0</td>\n",
       "      <td>0.0</td>\n",
       "      <td>0.0</td>\n",
       "      <td>0.0</td>\n",
       "      <td>0.0</td>\n",
       "      <td>...</td>\n",
       "      <td>0.0</td>\n",
       "      <td>0.0</td>\n",
       "      <td>0.0</td>\n",
       "      <td>0.0</td>\n",
       "      <td>0.0</td>\n",
       "      <td>0.0</td>\n",
       "      <td>0.0</td>\n",
       "      <td>0.0</td>\n",
       "      <td>0.0</td>\n",
       "      <td>0.0</td>\n",
       "    </tr>\n",
       "    <tr>\n",
       "      <th>A107CTGSINY3GJ</th>\n",
       "      <td>0.0</td>\n",
       "      <td>0.0</td>\n",
       "      <td>0.0</td>\n",
       "      <td>0.0</td>\n",
       "      <td>0.0</td>\n",
       "      <td>0.0</td>\n",
       "      <td>0.0</td>\n",
       "      <td>0.0</td>\n",
       "      <td>0.0</td>\n",
       "      <td>0.0</td>\n",
       "      <td>...</td>\n",
       "      <td>0.0</td>\n",
       "      <td>0.0</td>\n",
       "      <td>0.0</td>\n",
       "      <td>0.0</td>\n",
       "      <td>0.0</td>\n",
       "      <td>0.0</td>\n",
       "      <td>0.0</td>\n",
       "      <td>0.0</td>\n",
       "      <td>0.0</td>\n",
       "      <td>0.0</td>\n",
       "    </tr>\n",
       "  </tbody>\n",
       "</table>\n",
       "<p>5 rows × 26276 columns</p>\n",
       "</div>"
      ],
      "text/plain": [
       "productId       0594481813  0972683275  1400501466  1400501520  1400501776  \\\n",
       "userId                                                                       \n",
       "A100UD67AHFODS         0.0         0.0         0.0         0.0         0.0   \n",
       "A100WO06OQR8BQ         0.0         0.0         0.0         0.0         0.0   \n",
       "A105S56ODHGJEK         0.0         0.0         0.0         0.0         0.0   \n",
       "A105TOJ6LTVMBG         0.0         0.0         0.0         0.0         0.0   \n",
       "A107CTGSINY3GJ         0.0         0.0         0.0         0.0         0.0   \n",
       "\n",
       "productId       1400532620  1400532655  140053271X  1400599997  1400698987  \\\n",
       "userId                                                                       \n",
       "A100UD67AHFODS         0.0         0.0         0.0         0.0         0.0   \n",
       "A100WO06OQR8BQ         0.0         0.0         0.0         0.0         0.0   \n",
       "A105S56ODHGJEK         0.0         0.0         0.0         0.0         0.0   \n",
       "A105TOJ6LTVMBG         0.0         0.0         0.0         0.0         0.0   \n",
       "A107CTGSINY3GJ         0.0         0.0         0.0         0.0         0.0   \n",
       "\n",
       "productId       ...  B00KHR4ZL6  B00KI2BD1U  B00KIMX4EY  B00KINSDK8  \\\n",
       "userId          ...                                                   \n",
       "A100UD67AHFODS  ...         0.0         0.0         0.0         0.0   \n",
       "A100WO06OQR8BQ  ...         0.0         0.0         0.0         0.0   \n",
       "A105S56ODHGJEK  ...         0.0         0.0         0.0         0.0   \n",
       "A105TOJ6LTVMBG  ...         0.0         0.0         0.0         0.0   \n",
       "A107CTGSINY3GJ  ...         0.0         0.0         0.0         0.0   \n",
       "\n",
       "productId       B00KMRGF28  B00KPRWAX8  B00KWHMR6G  B00KYMCJF8  B00L26YDA4  \\\n",
       "userId                                                                       \n",
       "A100UD67AHFODS         0.0         0.0         0.0         0.0         0.0   \n",
       "A100WO06OQR8BQ         0.0         0.0         0.0         0.0         0.0   \n",
       "A105S56ODHGJEK         0.0         0.0         0.0         0.0         0.0   \n",
       "A105TOJ6LTVMBG         0.0         0.0         0.0         0.0         0.0   \n",
       "A107CTGSINY3GJ         0.0         0.0         0.0         0.0         0.0   \n",
       "\n",
       "productId       B00L3YHF6O  \n",
       "userId                      \n",
       "A100UD67AHFODS         0.0  \n",
       "A100WO06OQR8BQ         0.0  \n",
       "A105S56ODHGJEK         0.0  \n",
       "A105TOJ6LTVMBG         0.0  \n",
       "A107CTGSINY3GJ         0.0  \n",
       "\n",
       "[5 rows x 26276 columns]"
      ]
     },
     "execution_count": 9,
     "metadata": {},
     "output_type": "execute_result"
    }
   ],
   "source": [
    "table = pd.pivot_table(electronics, values='Rating', index=['userId'],columns=['productId'], aggfunc=np.mean)\n",
    "table=table.replace(np.nan, 0)\n",
    "table.head()"
   ]
  },
  {
   "cell_type": "code",
   "execution_count": 10,
   "id": "d2bfb06d",
   "metadata": {},
   "outputs": [
    {
     "data": {
      "text/plain": [
       "(2686, 26276)"
      ]
     },
     "execution_count": 10,
     "metadata": {},
     "output_type": "execute_result"
    }
   ],
   "source": [
    "matrix=np.matrix(table)\n",
    "matrix=np.where(matrix>0, 1, 0)\n",
    "matrix.shape"
   ]
  },
  {
   "cell_type": "markdown",
   "id": "e1474de3",
   "metadata": {},
   "source": [
    "#### 3- Divisão entre treino e teste\n",
    "\n",
    "##### Vai ser realizada de forma a que cada cliente tenha 10 ratings de produtos no conjunto de teste, sendo os restantes para treino"
   ]
  },
  {
   "cell_type": "code",
   "execution_count": 27,
   "id": "45ab98f0",
   "metadata": {},
   "outputs": [],
   "source": [
    "def train_test_split(ratings):\n",
    "    test = np.zeros(ratings.shape)\n",
    "    train = ratings.copy()\n",
    "    # Para cada cliente\n",
    "    for user in range(ratings.shape[0]):\n",
    "        #Retirar os índices dos 10 ratings de teste aleatoriamente\n",
    "        test_ratings = np.random.choice(np.nonzero(ratings[user, :])[0],size=10,replace=False).reshape(1,-1).tolist()[0]\n",
    "        #Retirar os ratings de teste do conjunto de treino\n",
    "        train[user, test_ratings] = 0.\n",
    "        #Colocar os 10 ratings escolido no conjunto de teste\n",
    "        test[user, test_ratings] = ratings[user, test_ratings]    \n",
    "    return train, test\n",
    "train, test = train_test_split(matrix)"
   ]
  },
  {
   "cell_type": "markdown",
   "id": "78151265",
   "metadata": {},
   "source": [
    "### Métricas de avaliação do motor de recomendação\n",
    "\n",
    "As métricas de avaliação de um algoritmo de ML na indústria devem reflectir os objectivos de negócio. Vamos assumir que no site em questão aparecem 10 produtos recomendados ao cliente. Deste modo, todas as métricas devem incidir sobre estes 10 produtos e a ordenação dos mesmos (um algoritmo deve ser valorizado se meter em primeiro lugar o produto mais relevante para o cliente), e a assertividade que estas recomendações têm em prever vandas futuras.\n",
    "\n",
    "1- Mean Precision \n",
    "\n",
    "2- Mean Average Precision \n",
    "\n",
    "3- Cobertura de Gama - % de produtos no site sugeridos.\n",
    "\n",
    "4- Personalization Index - índice de personalização (quantifica o grau de personalização das sugestões)\n",
    "\n",
    "\n",
    "Para ilustrar, consideremos a precision que para 1 clientes, são feitas 3 sugestões ordenadas de 10 produtos. Nos vectores, aparecem as relevâncias reais dos produtos para o cliente:"
   ]
  },
  {
   "cell_type": "code",
   "execution_count": 28,
   "id": "3fd70828",
   "metadata": {},
   "outputs": [],
   "source": [
    "S1= [1,1,1,1,1,0,0,0,0,0]\n",
    "\n",
    "S2= [0,0,0,0,0,1,1,1,1,1]"
   ]
  },
  {
   "cell_type": "markdown",
   "id": "069f9fd5",
   "metadata": {},
   "source": [
    "#### 1- Mean Precision: Dentro dos 10 produtos sugeridos, quantos são relevantes para o cliente, em média:\n",
    "\n",
    "Esta métrica não diferencia qualquer ordenação dos produtos:"
   ]
  },
  {
   "cell_type": "code",
   "execution_count": 29,
   "id": "b75a43b7",
   "metadata": {},
   "outputs": [
    {
     "name": "stdout",
     "output_type": "stream",
     "text": [
      "Precision S1: 0.5\n",
      "Precision S2: 0.5\n"
     ]
    }
   ],
   "source": [
    "def precision (S):\n",
    "    S=np.array(S)\n",
    "    return np.sum((S>0).astype(int))/S.shape[0]\n",
    "\n",
    "print ('Precision S1: ' + str(precision(S1)))\n",
    "\n",
    "print ('Precision S2: ' + str(precision(S2)))\n",
    "\n"
   ]
  },
  {
   "cell_type": "markdown",
   "id": "fb23671a",
   "metadata": {},
   "source": [
    "#### 2- Mean Average Precision:  Corrige a métrica anterior pois considera a posição dos produtos relevantes ou não na lista recomendada\n",
    "\n",
    "Apesar de ser um upgrade, continua a não considerar o grau de relevância pelo cliente, não diferenciando S1 e S2."
   ]
  },
  {
   "cell_type": "code",
   "execution_count": 30,
   "id": "20ce6f4b",
   "metadata": {},
   "outputs": [
    {
     "name": "stdout",
     "output_type": "stream",
     "text": [
      "Precision S1: 0.8228174603174603\n",
      "Precision S2: 0.17718253968253966\n"
     ]
    }
   ],
   "source": [
    "def average_precision (S):\n",
    "    S=np.array(S)\n",
    "    y_true= (S>0).astype(int)\n",
    "    \n",
    "    return np.mean(np.array([precision(S[:k+1]) for k in range(S.shape[0])]))\n",
    "\n",
    "print ('Precision S1: ' + str(average_precision(S1)))\n",
    "\n",
    "print ('Precision S2: ' + str(average_precision(S2)))\n",
    "\n"
   ]
  },
  {
   "cell_type": "markdown",
   "id": "498fffde",
   "metadata": {},
   "source": [
    "#### 3-Definir funções que fazem a média destas métricas para todos os clientes"
   ]
  },
  {
   "cell_type": "code",
   "execution_count": 15,
   "id": "b8077cb9",
   "metadata": {},
   "outputs": [],
   "source": [
    "def mean_precision(pred):\n",
    "\n",
    "    return np.mean(np.array([precision(pred[user,:]) for user in range(pred.shape[0])]))\n",
    "\n",
    "def mean_ap(pred):\n",
    " \n",
    "    return np.mean(np.array([average_precision(pred[user,:]) for user in range(pred.shape[0])]))\n"
   ]
  },
  {
   "cell_type": "markdown",
   "id": "e63900a0",
   "metadata": {},
   "source": [
    "# Algoritmos"
   ]
  },
  {
   "cell_type": "markdown",
   "id": "629348b5",
   "metadata": {},
   "source": [
    "## 1ª abordagem -  popularidade (baseline)"
   ]
  },
  {
   "cell_type": "code",
   "execution_count": 16,
   "id": "f72df3eb",
   "metadata": {},
   "outputs": [
    {
     "name": "stdout",
     "output_type": "stream",
     "text": [
      "Mean Precision Baseline: 0.016306775874906927\n",
      "Mean AP Baseline: 0.01827292309328795\n"
     ]
    }
   ],
   "source": [
    "def predict_baseline(train, test):\n",
    "    mean_sku = train.mean(axis=0)\n",
    "    top10popular=np.flip(np.argsort(mean_sku)).reshape(-1,1)[:10].reshape(1,-1).tolist()[0]\n",
    "    pred=test[:,top10popular]\n",
    "    return pred\n",
    "\n",
    "pred=predict_baseline(train, test)\n",
    "print ('Mean Precision Baseline: ' + str(mean_precision(pred)))\n",
    "print ('Mean AP Baseline: ' + str(mean_ap(pred)))"
   ]
  },
  {
   "cell_type": "markdown",
   "id": "48f10178",
   "metadata": {},
   "source": [
    "## 2ª abordagem - Colaborative Filtering\n",
    "\n",
    "\n",
    "O collaborative filtering baseia-se apenas nas preferências históricas dos utilizadores num conjunto de artigos. O pressuposto é que os utilizadores que concordaram no passado tendem também a concordar no futuro.  As preferências são expressas por métricas dos utilizadores, tais como page views, cliques, compras, ...\n",
    "\n",
    "\n",
    "\n",
    "### Pontos Positivos:\n",
    "\n",
    ". Colaborative Filtering não requer características sobre os artigos ou clientes para ser aplicado. Baseia-se apenas nos dados de vendas, page_views, ratings, etc. É adequado para sites que vendem uma gama variada de artigos.\n",
    "\n",
    ".  As recommendações não se especializam demasiado no perfil de um utilizador e contém artigos que são completamente diferentes do que já compraram antes. Se o site não pretende sugerir apenas pares de ténis semelhantes aos que o cliente comprou, então deve-se utilizar collaborative filtering (pelo menos parcialmente), no motor de recomendação. Desta forma não serão sugeridos necessariamente apenas artigos idênticos mas também outros artigos diferentes que utilizadores idênticos costumam comprar ou ver.\n",
    "\n",
    "\n",
    "### Pontos Negativos:\n",
    "\n",
    ". Colaborative Filtering pode levar a alguns problemas como o cold start para novos produtos que não estão no site. Até que alguém os classifique, não são recomendados.\n",
    "\n",
    ". A escassez de dados pode afectar a qualidade dos recomendadores baseados no utilizador e também acrescentar ao problema do arranque a frio acima mencionado.\n",
    "\n",
    ". É pesado computacionalmente escalar este algoritmo\n",
    "\n",
    ". Com uma implementação simples, as recomendações tendem a ser já populares, e os artigos menos populares podem ser ignorados. Portanto, no pré-processamento devem ser filtrados produtos muito populares, até porque estes os clientes já procuram sem necessidade de recomendação.\n",
    "\n",
    "\n",
    "## Alternativa: Content - Based Approach\n",
    "\n",
    "Pega em features dos produtos como reviews, características, etc e computa distâncias entre os mesmos. De seguida, sugere produtos idênticos (distância pequena) aos que o cliente viu, baseados nestas distâncias.\n"
   ]
  },
  {
   "attachments": {
    "image.png": {
     "image/png": "[encoded data removed]"
    }
   },
   "cell_type": "markdown",
   "id": "8a6b06eb",
   "metadata": {},
   "source": [
    "## Memory Based Collaborative Filtering\n",
    "\n",
    "Memory Based Colaborative Filtering é uma família de algoritmos de recommendação de produtos que consiste em 2 passos:\n",
    "\n",
    "1- Encontrar clientes semelhantes ao cliente em causa com base nas compras, page views, ratings, etc. Esta semelhança deverá ser calculada com métricas de distância entre clientes (distância do cosseno, correlação de pearson, ...)\n",
    "\n",
    "2- Prever a probabilidade de compra de um produto por um cliente com base nos clientes semelhantes encontrados em 1). \n",
    "\n",
    "Existem múltiplas formas quer de encontrar utilizadores semelhantes e múltiplas formas de calcular a classificação com base na classificação de utilizadores semelhantes. \n",
    "\n",
    "\n",
    "![image.png](attachment:image.png)"
   ]
  },
  {
   "cell_type": "code",
   "execution_count": 17,
   "id": "05407f7e",
   "metadata": {},
   "outputs": [],
   "source": [
    "def fast_similarity(ratings, epsilon=1e-9):\n",
    "    # epsilon -> small number for handling dived-by-zero errors\n",
    "    \n",
    "    sim = ratings.dot(ratings.T) + epsilon\n",
    "    \n",
    "    norms = np.array([np.sqrt(np.diagonal(sim))])\n",
    "    \n",
    "    sim_matrix=(sim / norms / norms.T)\n",
    "    np.fill_diagonal(sim_matrix, 0)   \n",
    "    \n",
    "    return sim_matrix"
   ]
  },
  {
   "cell_type": "code",
   "execution_count": 18,
   "id": "cfb08019",
   "metadata": {},
   "outputs": [],
   "source": [
    "user_similarity = fast_similarity(train)"
   ]
  },
  {
   "cell_type": "code",
   "execution_count": 19,
   "id": "c1e7fca9",
   "metadata": {},
   "outputs": [
    {
     "data": {
      "text/plain": [
       "array([[0.00000000e+00, 1.06770356e-02, 1.58990750e-11, 1.58990750e-11],\n",
       "       [1.06770356e-02, 0.00000000e+00, 1.45989291e-02, 1.45989291e-11],\n",
       "       [1.58990750e-11, 1.45989291e-02, 0.00000000e+00, 2.17391304e-11],\n",
       "       [1.58990750e-11, 1.45989291e-11, 2.17391304e-11, 0.00000000e+00]])"
      ]
     },
     "execution_count": 19,
     "metadata": {},
     "output_type": "execute_result"
    }
   ],
   "source": [
    "user_similarity[:4,:4]"
   ]
  },
  {
   "cell_type": "code",
   "execution_count": 20,
   "id": "b461d953",
   "metadata": {},
   "outputs": [],
   "source": [
    "def predict_fast_simple(train,test, similarity):\n",
    "\n",
    "    aux_pred= similarity.dot(train) / np.abs(similarity).sum(axis=1).reshape(-1,1)\n",
    "\n",
    "           \n",
    "    pred=np.zeros((aux_pred.shape[0],10))\n",
    "    for user in range(aux_pred.shape[0]):\n",
    "        pred_user=np.flip(np.argsort(aux_pred[user,:])).reshape(-1,1)[:10].reshape(1,-1).tolist()[0]\n",
    "        pred[user, :] = test[user,pred_user]  \n",
    "    return pred"
   ]
  },
  {
   "cell_type": "code",
   "execution_count": 21,
   "id": "62821102",
   "metadata": {},
   "outputs": [
    {
     "name": "stdout",
     "output_type": "stream",
     "text": [
      "Mean Precision User CF: 0.018615040953090096\n",
      "Mean AP User CF: 0.014692822276589959\n"
     ]
    }
   ],
   "source": [
    "\n",
    "user_prediction = predict_fast_simple(train,test, user_similarity)\n",
    "\n",
    "print ('Mean Precision User CF: ' + str(mean_precision(user_prediction)))\n",
    "print ('Mean AP User CF: ' + str(mean_ap(user_prediction)))"
   ]
  },
  {
   "cell_type": "markdown",
   "id": "5a6334c0",
   "metadata": {},
   "source": [
    "### Refinement: considerar apenas os top k clientes + parecidos"
   ]
  },
  {
   "cell_type": "code",
   "execution_count": 31,
   "id": "87e66500",
   "metadata": {},
   "outputs": [
    {
     "name": "stdout",
     "output_type": "stream",
     "text": [
      "Mean Precision User 100 nearest CF: 0.0973938942665674\n",
      "Mean AP 100 nearest CF: 0.13835197792197046\n"
     ]
    },
    {
     "ename": "KeyboardInterrupt",
     "evalue": "",
     "output_type": "error",
     "traceback": [
      "\u001b[1;31m---------------------------------------------------------------------------\u001b[0m",
      "\u001b[1;31mKeyboardInterrupt\u001b[0m                         Traceback (most recent call last)",
      "Input \u001b[1;32mIn [31]\u001b[0m, in \u001b[0;36m<cell line: 18>\u001b[1;34m()\u001b[0m\n\u001b[0;32m     17\u001b[0m k_array \u001b[38;5;241m=\u001b[39m [\u001b[38;5;241m100\u001b[39m, \u001b[38;5;241m200\u001b[39m,\u001b[38;5;241m300\u001b[39m,\u001b[38;5;241m400\u001b[39m]\n\u001b[0;32m     18\u001b[0m \u001b[38;5;28;01mfor\u001b[39;00m k \u001b[38;5;129;01min\u001b[39;00m k_array:\n\u001b[1;32m---> 19\u001b[0m     user_prediction_topk \u001b[38;5;241m=\u001b[39m \u001b[43mpredict_topk\u001b[49m\u001b[43m(\u001b[49m\u001b[43mtest\u001b[49m\u001b[43m,\u001b[49m\u001b[43m \u001b[49m\u001b[43muser_similarity\u001b[49m\u001b[43m,\u001b[49m\u001b[43m \u001b[49m\u001b[43mk\u001b[49m\u001b[38;5;241;43m=\u001b[39;49m\u001b[43mk\u001b[49m\u001b[43m)\u001b[49m\n\u001b[0;32m     20\u001b[0m     \u001b[38;5;28mprint\u001b[39m (\u001b[38;5;124mf\u001b[39m\u001b[38;5;124m'\u001b[39m\u001b[38;5;124mMean Precision User \u001b[39m\u001b[38;5;132;01m{\u001b[39;00mk\u001b[38;5;132;01m}\u001b[39;00m\u001b[38;5;124m nearest CF: \u001b[39m\u001b[38;5;124m'\u001b[39m \u001b[38;5;241m+\u001b[39m \u001b[38;5;28mstr\u001b[39m(mean_precision(user_prediction_topk)))\n\u001b[0;32m     21\u001b[0m     \u001b[38;5;28mprint\u001b[39m (\u001b[38;5;124mf\u001b[39m\u001b[38;5;124m'\u001b[39m\u001b[38;5;124mMean AP \u001b[39m\u001b[38;5;132;01m{\u001b[39;00mk\u001b[38;5;132;01m}\u001b[39;00m\u001b[38;5;124m nearest CF: \u001b[39m\u001b[38;5;124m'\u001b[39m \u001b[38;5;241m+\u001b[39m \u001b[38;5;28mstr\u001b[39m(mean_ap(user_prediction_topk)))\n",
      "Input \u001b[1;32mIn [31]\u001b[0m, in \u001b[0;36mpredict_topk\u001b[1;34m(ratings, similarity, kind, k)\u001b[0m\n\u001b[0;32m      5\u001b[0m     top_k_users \u001b[38;5;241m=\u001b[39m np\u001b[38;5;241m.\u001b[39mflip(np\u001b[38;5;241m.\u001b[39marray(np\u001b[38;5;241m.\u001b[39margsort(similarity[:,i],axis\u001b[38;5;241m=\u001b[39m\u001b[38;5;28;01mNone\u001b[39;00m))\u001b[38;5;241m.\u001b[39mtolist())[:k]\n\u001b[0;32m      6\u001b[0m     \u001b[38;5;28;01mfor\u001b[39;00m j \u001b[38;5;129;01min\u001b[39;00m \u001b[38;5;28mrange\u001b[39m(ratings\u001b[38;5;241m.\u001b[39mshape[\u001b[38;5;241m1\u001b[39m]):\n\u001b[1;32m----> 7\u001b[0m         aux_pred[i, j] \u001b[38;5;241m=\u001b[39m similarity[i, :]\u001b[38;5;241m.\u001b[39mreshape(\u001b[38;5;241m-\u001b[39m\u001b[38;5;241m1\u001b[39m,\u001b[38;5;241m1\u001b[39m)[ top_k_users]\u001b[38;5;241m.\u001b[39mT\u001b[38;5;241m.\u001b[39mdot(\u001b[43mratings\u001b[49m\u001b[43m[\u001b[49m\u001b[43m:\u001b[49m\u001b[43m,\u001b[49m\u001b[43m \u001b[49m\u001b[43mj\u001b[49m\u001b[43m]\u001b[49m\u001b[43m[\u001b[49m\u001b[43mtop_k_users\u001b[49m\u001b[43m]\u001b[49m) \n\u001b[0;32m      8\u001b[0m         aux_pred[i, j] \u001b[38;5;241m/\u001b[39m\u001b[38;5;241m=\u001b[39m np\u001b[38;5;241m.\u001b[39msum(np\u001b[38;5;241m.\u001b[39mabs(similarity[i, :]\u001b[38;5;241m.\u001b[39mreshape(\u001b[38;5;241m-\u001b[39m\u001b[38;5;241m1\u001b[39m,\u001b[38;5;241m1\u001b[39m)[top_k_users]))\n\u001b[0;32m     11\u001b[0m pred\u001b[38;5;241m=\u001b[39mnp\u001b[38;5;241m.\u001b[39mzeros((aux_pred\u001b[38;5;241m.\u001b[39mshape[\u001b[38;5;241m0\u001b[39m],\u001b[38;5;241m10\u001b[39m))\n",
      "\u001b[1;31mKeyboardInterrupt\u001b[0m: "
     ]
    }
   ],
   "source": [
    "\n",
    "def predict_topk(ratings, similarity, kind='user', k=40):\n",
    "    aux_pred = np.zeros(ratings.shape)\n",
    "    for i in range(ratings.shape[0]):\n",
    "\n",
    "        top_k_users = np.flip(np.array(np.argsort(similarity[:,i],axis=None)).tolist())[:k]\n",
    "        for j in range(ratings.shape[1]):\n",
    "            aux_pred[i, j] = similarity[i, :].reshape(-1,1)[ top_k_users].T.dot(ratings[:, j][top_k_users]) \n",
    "            aux_pred[i, j] /= np.sum(np.abs(similarity[i, :].reshape(-1,1)[top_k_users]))\n",
    "           \n",
    "    \n",
    "    pred=np.zeros((aux_pred.shape[0],10))\n",
    "    for user in range(aux_pred.shape[0]):\n",
    "        pred_user=np.flip(np.argsort(aux_pred[user,:])).reshape(-1,1)[:10].reshape(1,-1).tolist()[0]\n",
    "        pred[user, :] = test[user,pred_user]  \n",
    "    return pred\n",
    "\n",
    "k_array = [100, 200,300,400]\n",
    "for k in k_array:\n",
    "    user_prediction_topk = predict_topk(test, user_similarity, k=k)\n",
    "    print (f'Mean Precision User {k} nearest CF: ' + str(mean_precision(user_prediction_topk)))\n",
    "    print (f'Mean AP {k} nearest CF: ' + str(mean_ap(user_prediction_topk)))"
   ]
  },
  {
   "attachments": {
    "image.png": {
     "image/png": "[encoded data removed]"
    }
   },
   "cell_type": "markdown",
   "id": "100efef3",
   "metadata": {},
   "source": [
    "## Model Based Collaborative Filtering\n",
    "\n",
    "O método anterior continua a ter duas limitações:\n",
    "\n",
    ". Uma é que só considera dois clientes semelhantes se tiverem comprado os mesmos produtos, mesmo que tenham comprado, produtos idênticos.\n",
    "\n",
    ". Outra delas é a esparsidade e a escalabilidade.\n",
    "\n",
    "Sugerimos então um método mais avançado que decompõe a matriz esparsa original em matrizes densas (de baixa dimensão). Estas matrizes formam uma nova representação (de menor dimensão) dos dados originais que mantém a informação mas é mais fácil de processar para os algoritmos.\n",
    "\n",
    "### Singular Value Decomposition\n",
    "\n",
    "Quando se trata de redução da dimensionalidade, a Decomposição de Valor Singular (SVD) é um método popular em álgebra linear para a factorização matricial no Machine Learning. Reduz a matriz no formato user-compra no produto de 3 matrizes:\n",
    "\n",
    "![image.png](attachment:image.png)\n",
    "\n",
    "A é a nossa matriz user-compra de treino/teste de dimensão mxn, U is a m x r é uma matriz que contém a relação entre cada user e latent factor, S é uma matriz rxr diagonal, que descreve a força de cada latent factor e V é uma matriz que descreve a relação entre cada produto e latent factor."
   ]
  },
  {
   "cell_type": "code",
   "execution_count": null,
   "id": "b0fccf7e",
   "metadata": {},
   "outputs": [],
   "source": [
    "U, S, V = np.linalg.svd(train)\n",
    "\n",
    "k = 50\n",
    "\n",
    "R_Data= "
   ]
  },
  {
   "cell_type": "code",
   "execution_count": null,
   "id": "3bbec1f7",
   "metadata": {},
   "outputs": [],
   "source": []
  }
 ],
 "metadata": {
  "kernelspec": {
   "display_name": "Python 3 (ipykernel)",
   "language": "python",
   "name": "python3"
  },
  "language_info": {
   "codemirror_mode": {
    "name": "ipython",
    "version": 3
   },
   "file_extension": ".py",
   "mimetype": "text/x-python",
   "name": "python",
   "nbconvert_exporter": "python",
   "pygments_lexer": "ipython3",
   "version": "3.9.12"
  }
 },
 "nbformat": 4,
 "nbformat_minor": 5
}
